{
  "nbformat": 4,
  "nbformat_minor": 0,
  "metadata": {
    "colab": {
      "provenance": []
    },
    "kernelspec": {
      "name": "python3",
      "display_name": "Python 3"
    },
    "language_info": {
      "name": "python"
    }
  },
  "cells": [
    {
      "cell_type": "markdown",
      "source": [
        "#Resolving the Dependences\n",
        " Install the Amaranth HDL toolchain"
      ],
      "metadata": {
        "id": "kmTDha6yrJYK"
      }
    },
    {
      "cell_type": "code",
      "execution_count": null,
      "metadata": {
        "id": "-kRhwHKTlGlG"
      },
      "outputs": [],
      "source": [
        "!pip install amaranth"
      ]
    },
    {
      "cell_type": "markdown",
      "source": [
        "# Create a Basic Structure of a Module\n",
        "Modules can be conveniently created using Python classes derived from Amaranth's Elaboratable class"
      ],
      "metadata": {
        "id": "-7l5LOuWtdkq"
      }
    },
    {
      "cell_type": "code",
      "source": [
        "from amaranth import Elaboratable, Module\n",
        "from amaranth.build import Platform\n",
        "\n",
        "\n",
        "class ThingBlock(Elaboratable):\n",
        "     def __init__(self):\n",
        "         pass\n",
        "\n",
        "     def elaborate(self, platform: Platform) -> Module:\n",
        "         m = Module()\n",
        "         return m"
      ],
      "metadata": {
        "id": "g-bFTlNWlX8-"
      },
      "execution_count": 13,
      "outputs": []
    },
    {
      "cell_type": "markdown",
      "source": [
        "#Elaborating a Module\n",
        "Elaboration means translating your HDL code to either Verilog or RTLIL (Register Transfer Language Intermediate Language) representation"
      ],
      "metadata": {
        "id": "FwvykIBOt3VK"
      }
    },
    {
      "cell_type": "code",
      "source": [
        "from amaranth import ClockDomain\n",
        "from amaranth.cli import main\n",
        "import sys\n",
        "\n",
        "\n",
        "sys.argv=['']\n",
        "del sys\n",
        "\n",
        "\n",
        "if __name__ == \"__main__\":\n",
        "    sync = ClockDomain()\n",
        "\n",
        "    block = ThingBlock()\n",
        "\n",
        "    m = Module()\n",
        "    m.domains += sync\n",
        "    m.submodules += block\n",
        "\n",
        "    main(m, ports=[sync.clk, sync.rst])"
      ],
      "metadata": {
        "id": "X9GCEouZlgWG"
      },
      "execution_count": 14,
      "outputs": []
    },
    {
      "cell_type": "markdown",
      "source": [
        "# Assignment Domains\n",
        "It can add just a single assignment, or an entire sequence of them"
      ],
      "metadata": {
        "id": "gjGlgKAPuSa5"
      }
    },
    {
      "cell_type": "code",
      "source": [
        "from amaranth import *\n",
        "\n",
        "\n",
        "a = Signal()\n",
        "b = Signal()\n",
        "c = Signal()\n",
        "\n",
        "\n",
        "m.d.comb += a.eq(1)\n",
        "m.d.sync += [b.eq(c), c.eq(b),]"
      ],
      "metadata": {
        "id": "X7F0P32gmWnw"
      },
      "execution_count": 15,
      "outputs": []
    },
    {
      "cell_type": "markdown",
      "source": [
        "# Control Structures\n",
        "The syntax of all control structures is based on context managers and uses `with` blocks, for example"
      ],
      "metadata": {
        "id": "h8L2o2XhukRh"
      }
    },
    {
      "cell_type": "code",
      "source": [
        "timer = Signal(8)\n",
        "with m.If(timer == 0):\n",
        "  m.d.sync += timer.eq(10)\n",
        "with m.Else():\n",
        "  m.d.sync += timer.eq(timer - 1)"
      ],
      "metadata": {
        "id": "icCF80m7oMGn"
      },
      "execution_count": 16,
      "outputs": []
    },
    {
      "cell_type": "markdown",
      "source": [
        "The code above is equivalent"
      ],
      "metadata": {
        "id": "jFTKb_seuzeM"
      }
    },
    {
      "cell_type": "code",
      "source": [
        "timer = Signal(8)\n",
        "m.d.sync += timer.eq(Mux(timer == 0, 10, timer - 1))"
      ],
      "metadata": {
        "id": "P2pbQzjLo9zZ"
      },
      "execution_count": 19,
      "outputs": []
    },
    {
      "cell_type": "markdown",
      "source": [
        "This can be observed through Python code with side effects, such as `print()`"
      ],
      "metadata": {
        "id": "3y4H-pDEu51u"
      }
    },
    {
      "cell_type": "code",
      "source": [
        "timer = Signal(8)\n",
        "with m.If(timer == 0):\n",
        "  print(\"Inside If\")\n",
        "  m.d.sync += timer.eq(10)\n",
        "with m.Else():\n",
        "  print(\"Inside Else\")\n",
        "  m.d.sync += timer.eq(timer - 1)"
      ],
      "metadata": {
        "colab": {
          "base_uri": "https://localhost:8080/"
        },
        "id": "8dm-JZ7gpkwG",
        "outputId": "03f46a5c-ce92-45c0-e159-2c8baf9007bf"
      },
      "execution_count": 18,
      "outputs": [
        {
          "output_type": "stream",
          "name": "stdout",
          "text": [
            "Inside If\n",
            "Inside Else\n"
          ]
        }
      ]
    }
  ]
}