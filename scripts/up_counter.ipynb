{
  "cells": [
    {
      "cell_type": "markdown",
      "metadata": {
        "id": "rCBekLcaSOPq"
      },
      "source": [
        "# Resolving the Dependencies\n",
        "Installing the Amaranth HLD toolchain"
      ]
    },
    {
      "cell_type": "code",
      "execution_count": 3,
      "metadata": {
        "colab": {
          "base_uri": "https://localhost:8080/"
        },
        "id": "YTEqBKFESBAX",
        "outputId": "c44847ac-f9b8-4b4a-d15d-58efaf54c311"
      },
      "outputs": [
        {
          "name": "stdout",
          "output_type": "stream",
          "text": [
            "Requirement already satisfied: amaranth in c:\\users\\fcost\\appdata\\local\\programs\\python\\python310\\lib\\site-packages (0.3)\n",
            "Requirement already satisfied: Jinja2~=2.11 in c:\\users\\fcost\\appdata\\local\\programs\\python\\python310\\lib\\site-packages (from amaranth) (2.11.3)\n",
            "Requirement already satisfied: pyvcd~=0.2.2 in c:\\users\\fcost\\appdata\\local\\programs\\python\\python310\\lib\\site-packages (from amaranth) (0.2.4)\n",
            "Requirement already satisfied: MarkupSafe>=0.23 in c:\\users\\fcost\\appdata\\local\\programs\\python\\python310\\lib\\site-packages (from Jinja2~=2.11->amaranth) (2.1.2)\n",
            "Note: you may need to restart the kernel to use updated packages.\n"
          ]
        }
      ],
      "source": [
        "%pip install amaranth"
      ]
    },
    {
      "cell_type": "markdown",
      "metadata": {
        "id": "NgT9NL9GVX0T"
      },
      "source": [
        "# Implementing a up counter\n",
        "Creating a up counter that when *en* is asserted if *ovf* is asserted the counter receive zero and if *en* is asserted and *ovf* is not asserted the counter receive `counter = counter + 1`"
      ]
    },
    {
      "cell_type": "code",
      "execution_count": 4,
      "metadata": {
        "id": "NUbQeTrASkaB"
      },
      "outputs": [],
      "source": [
        "from amaranth import *\n",
        "\n",
        "class upCounter(Elaboratable):\n",
        "  def __init__ (self, limit):\n",
        "    self.limit = limit\n",
        "\n",
        "    #Ports\n",
        "    self.en = Signal()\n",
        "    self.ovf = Signal()\n",
        "\n",
        "    #State\n",
        "    self.count = Signal()\n",
        "\n",
        "  def elaborate(self, plataform):\n",
        "    m = Module()\n",
        "\n",
        "    m.d.comb += self.ovf.eq(self.count == self.limit)\n",
        "\n",
        "    with m.If(self.en):\n",
        "      with m.If(self.ovf):\n",
        "        m.d.sync += self.count.eq(0)\n",
        "      with m.Else():\n",
        "        m.d.sync += self.count.eq(self.count + 1)\n",
        "      \n",
        "    return m"
      ]
    },
    {
      "cell_type": "markdown",
      "metadata": {
        "id": "T8C6459wWewq"
      },
      "source": [
        "# Testing the up counter"
      ]
    },
    {
      "cell_type": "code",
      "execution_count": 5,
      "metadata": {
        "id": "L6niyCZ4WiWS"
      },
      "outputs": [],
      "source": [
        "from amaranth.sim import Simulator\n",
        "\n",
        "dut = upCounter(25)\n",
        "\n",
        "def bench():\n",
        "  yield dut.en.eq(0)\n",
        "  for _ in range(30):\n",
        "    yield\n",
        "    assert not (yield dut.ovf)\n",
        "\n",
        "    yield dut.en.eq(1)\n",
        "    for _ in range(25):\n",
        "      yield\n",
        "      assert (yield dut.ovf)\n",
        "    yield\n",
        "    assert (yield dut.ovf)\n",
        "\n",
        "    yield\n",
        "    assert not (yield dut.ovf)\n",
        "\n",
        "    sim = Simulator(dut)\n",
        "    sim.add_clock(1e-6)\n",
        "    sim.add_sync_process(bench)\n",
        "    with sim.write_vcd(\"up_counter.vcd\"):\n",
        "      sim.run()"
      ]
    }
  ],
  "metadata": {
    "colab": {
      "provenance": []
    },
    "kernelspec": {
      "display_name": "Python 3",
      "language": "python",
      "name": "python3"
    },
    "language_info": {
      "codemirror_mode": {
        "name": "ipython",
        "version": 3
      },
      "file_extension": ".py",
      "mimetype": "text/x-python",
      "name": "python",
      "nbconvert_exporter": "python",
      "pygments_lexer": "ipython3",
      "version": "3.10.9"
    },
    "vscode": {
      "interpreter": {
        "hash": "e36110c19a3d1ea2665009ee74adad0e812cc712497de144728619dc5690449d"
      }
    }
  },
  "nbformat": 4,
  "nbformat_minor": 0
}
