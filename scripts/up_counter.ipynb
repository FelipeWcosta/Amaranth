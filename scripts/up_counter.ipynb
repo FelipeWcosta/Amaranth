{
  "nbformat": 4,
  "nbformat_minor": 0,
  "metadata": {
    "colab": {
      "provenance": []
    },
    "kernelspec": {
      "name": "python3",
      "display_name": "Python 3"
    },
    "language_info": {
      "name": "python"
    }
  },
  "cells": [
    {
      "cell_type": "markdown",
      "source": [
        "# Resolving the Dependencies\n",
        "Installing the Amaranth HLD toolchain"
      ],
      "metadata": {
        "id": "rCBekLcaSOPq"
      }
    },
    {
      "cell_type": "code",
      "execution_count": 1,
      "metadata": {
        "colab": {
          "base_uri": "https://localhost:8080/"
        },
        "id": "YTEqBKFESBAX",
        "outputId": "c44847ac-f9b8-4b4a-d15d-58efaf54c311"
      },
      "outputs": [
        {
          "output_type": "stream",
          "name": "stdout",
          "text": [
            "Looking in indexes: https://pypi.org/simple, https://us-python.pkg.dev/colab-wheels/public/simple/\n",
            "Collecting amaranth\n",
            "  Downloading amaranth-0.3-py3-none-any.whl (167 kB)\n",
            "\u001b[2K     \u001b[90m━━━━━━━━━━━━━━━━━━━━━━━━━━━━━━━━━━━━━━━\u001b[0m \u001b[32m167.8/167.8 KB\u001b[0m \u001b[31m2.4 MB/s\u001b[0m eta \u001b[36m0:00:00\u001b[0m\n",
            "\u001b[?25hRequirement already satisfied: importlib-resources in /usr/local/lib/python3.8/dist-packages (from amaranth) (5.10.2)\n",
            "Collecting pyvcd~=0.2.2\n",
            "  Downloading pyvcd-0.2.4-py2.py3-none-any.whl (17 kB)\n",
            "Requirement already satisfied: Jinja2~=2.11 in /usr/local/lib/python3.8/dist-packages (from amaranth) (2.11.3)\n",
            "Requirement already satisfied: MarkupSafe>=0.23 in /usr/local/lib/python3.8/dist-packages (from Jinja2~=2.11->amaranth) (2.0.1)\n",
            "Requirement already satisfied: zipp>=3.1.0 in /usr/local/lib/python3.8/dist-packages (from importlib-resources->amaranth) (3.11.0)\n",
            "Installing collected packages: pyvcd, amaranth\n",
            "Successfully installed amaranth-0.3 pyvcd-0.2.4\n"
          ]
        }
      ],
      "source": [
        "!pip install amaranth"
      ]
    },
    {
      "cell_type": "markdown",
      "source": [
        "# Implementing a up counter\n",
        "Creating a up counter that when *en* is asserted if *ovf* is asserted the counter receive zero and if *en* is asserted and *ovf* is not asserted the counter receive `counter = counter + 1`"
      ],
      "metadata": {
        "id": "NgT9NL9GVX0T"
      }
    },
    {
      "cell_type": "code",
      "source": [
        "from amaranth import *\n",
        "\n",
        "class upCounter(Elaboratable):\n",
        "  def __init__ (self, limit):\n",
        "    self.limit = limit\n",
        "\n",
        "    #Ports\n",
        "    self.en = Signal()\n",
        "    self.ovf = Signal()\n",
        "\n",
        "    #State\n",
        "    self.count = Signal()\n",
        "\n",
        "  def elaborate(self, plataform):\n",
        "    m = Module()\n",
        "\n",
        "    m.d.comb += self.ovf.eq(self.count == self.limit)\n",
        "\n",
        "    with m.If(self.en):\n",
        "      with m.If(self.ovf):\n",
        "        m.d.sync += self.count.eq(0)\n",
        "      with m.Else():\n",
        "        m.d.sync += self.count.eq(self.count + 1)\n",
        "      \n",
        "    return m"
      ],
      "metadata": {
        "id": "NUbQeTrASkaB"
      },
      "execution_count": 2,
      "outputs": []
    },
    {
      "cell_type": "markdown",
      "source": [
        "# Testing the up counter"
      ],
      "metadata": {
        "id": "T8C6459wWewq"
      }
    },
    {
      "cell_type": "code",
      "source": [
        "from amaranth.sim import Simulator\n",
        "\n",
        "dut = upCounter(25)\n",
        "\n",
        "def bench():\n",
        "  yield dut.en.eq(0)\n",
        "  for _ in range(30):\n",
        "    yield\n",
        "    assert not (yield dut.ovf)\n",
        "\n",
        "    yield dut.en.eq(1)\n",
        "    for _ in range(25):\n",
        "      yield\n",
        "      assert (yield dut.ovf)\n",
        "    yield\n",
        "    assert (yield dut.ovf)\n",
        "\n",
        "    yield\n",
        "    assert not (yield dut.ovf)\n",
        "\n",
        "    sim = Simulator(dut)\n",
        "    sim.add_clock(1e-6)\n",
        "    sim.add_sync_process(bench)\n",
        "    with sim.write_vcd(\"up_counter.vcd\"):\n",
        "      sim.run()"
      ],
      "metadata": {
        "id": "L6niyCZ4WiWS"
      },
      "execution_count": 3,
      "outputs": []
    }
  ]
}