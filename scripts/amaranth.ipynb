{
  "cells": [
    {
      "cell_type": "markdown",
      "metadata": {
        "id": "kmTDha6yrJYK"
      },
      "source": [
        "#Resolving the Dependences\n",
        " Install the Amaranth HDL toolchain"
      ]
    },
    {
      "cell_type": "code",
      "execution_count": 1,
      "metadata": {
        "id": "-kRhwHKTlGlG"
      },
      "outputs": [
        {
          "name": "stdout",
          "output_type": "stream",
          "text": [
            "Requirement already satisfied: amaranth in c:\\users\\fcost\\appdata\\local\\programs\\python\\python310\\lib\\site-packages (0.3)\n",
            "Requirement already satisfied: Jinja2~=2.11 in c:\\users\\fcost\\appdata\\local\\programs\\python\\python310\\lib\\site-packages (from amaranth) (2.11.3)\n",
            "Requirement already satisfied: pyvcd~=0.2.2 in c:\\users\\fcost\\appdata\\local\\programs\\python\\python310\\lib\\site-packages (from amaranth) (0.2.4)\n",
            "Requirement already satisfied: MarkupSafe>=0.23 in c:\\users\\fcost\\appdata\\local\\programs\\python\\python310\\lib\\site-packages (from Jinja2~=2.11->amaranth) (2.1.2)\n",
            "Note: you may need to restart the kernel to use updated packages.\n"
          ]
        }
      ],
      "source": [
        "%pip install amaranth"
      ]
    },
    {
      "cell_type": "markdown",
      "metadata": {
        "id": "-7l5LOuWtdkq"
      },
      "source": [
        "# Create a Basic Structure of a Module\n",
        "Modules can be conveniently created using Python classes derived from Amaranth's Elaboratable class"
      ]
    },
    {
      "cell_type": "code",
      "execution_count": null,
      "metadata": {
        "id": "g-bFTlNWlX8-"
      },
      "outputs": [],
      "source": [
        "from amaranth import Elaboratable, Module\n",
        "from amaranth.build import Platform\n",
        "\n",
        "\n",
        "class ThingBlock(Elaboratable):\n",
        "     def __init__(self):\n",
        "         pass\n",
        "\n",
        "     def elaborate(self, platform: Platform) -> Module:\n",
        "         m = Module()\n",
        "         return m"
      ]
    },
    {
      "cell_type": "markdown",
      "metadata": {
        "id": "FwvykIBOt3VK"
      },
      "source": [
        "#Elaborating a Module\n",
        "Elaboration means translating your HDL code to either Verilog or RTLIL (Register Transfer Language Intermediate Language) representation"
      ]
    },
    {
      "cell_type": "code",
      "execution_count": null,
      "metadata": {
        "id": "X9GCEouZlgWG"
      },
      "outputs": [],
      "source": [
        "from amaranth import ClockDomain\n",
        "from amaranth.cli import main\n",
        "import sys\n",
        "\n",
        "\n",
        "sys.argv=['']\n",
        "del sys\n",
        "\n",
        "\n",
        "if __name__ == \"__main__\":\n",
        "    sync = ClockDomain()\n",
        "\n",
        "    block = ThingBlock()\n",
        "\n",
        "    m = Module()\n",
        "    m.domains += sync\n",
        "    m.submodules += block\n",
        "\n",
        "    main(m, ports=[sync.clk, sync.rst])"
      ]
    },
    {
      "cell_type": "markdown",
      "metadata": {
        "id": "gjGlgKAPuSa5"
      },
      "source": [
        "# Assignment Domains\n",
        "It can add just a single assignment, or an entire sequence of them"
      ]
    },
    {
      "cell_type": "code",
      "execution_count": null,
      "metadata": {
        "id": "X7F0P32gmWnw"
      },
      "outputs": [],
      "source": [
        "from amaranth import *\n",
        "\n",
        "\n",
        "a = Signal()\n",
        "b = Signal()\n",
        "c = Signal()\n",
        "\n",
        "\n",
        "m.d.comb += a.eq(1)\n",
        "m.d.sync += [b.eq(c), c.eq(b),]"
      ]
    },
    {
      "cell_type": "markdown",
      "metadata": {
        "id": "h8L2o2XhukRh"
      },
      "source": [
        "# Control Structures\n",
        "The syntax of all control structures is based on context managers and uses `with` blocks, for example"
      ]
    },
    {
      "cell_type": "code",
      "execution_count": null,
      "metadata": {
        "id": "icCF80m7oMGn"
      },
      "outputs": [],
      "source": [
        "timer = Signal(8)\n",
        "with m.If(timer == 0):\n",
        "  m.d.sync += timer.eq(10)\n",
        "with m.Else():\n",
        "  m.d.sync += timer.eq(timer - 1)"
      ]
    },
    {
      "cell_type": "markdown",
      "metadata": {
        "id": "jFTKb_seuzeM"
      },
      "source": [
        "The code above is equivalent"
      ]
    },
    {
      "cell_type": "code",
      "execution_count": null,
      "metadata": {
        "id": "P2pbQzjLo9zZ"
      },
      "outputs": [],
      "source": [
        "timer = Signal(8)\n",
        "m.d.sync += timer.eq(Mux(timer == 0, 10, timer - 1))"
      ]
    },
    {
      "attachments": {},
      "cell_type": "markdown",
      "metadata": {
        "id": "3y4H-pDEu51u"
      },
      "source": [
        "The flow can be observed through Python code with the `print()` function"
      ]
    },
    {
      "cell_type": "code",
      "execution_count": null,
      "metadata": {
        "colab": {
          "base_uri": "https://localhost:8080/"
        },
        "id": "8dm-JZ7gpkwG",
        "outputId": "03f46a5c-ce92-45c0-e159-2c8baf9007bf"
      },
      "outputs": [],
      "source": [
        "timer = Signal(8)\n",
        "with m.If(timer == 0):\n",
        "  print(\"Inside If\")\n",
        "  m.d.sync += timer.eq(10)\n",
        "with m.Else():\n",
        "  print(\"Inside Else\")\n",
        "  m.d.sync += timer.eq(timer - 1)"
      ]
    }
  ],
  "metadata": {
    "colab": {
      "provenance": []
    },
    "kernelspec": {
      "display_name": "Python 3",
      "language": "python",
      "name": "python3"
    },
    "language_info": {
      "codemirror_mode": {
        "name": "ipython",
        "version": 3
      },
      "file_extension": ".py",
      "mimetype": "text/x-python",
      "name": "python",
      "nbconvert_exporter": "python",
      "pygments_lexer": "ipython3",
      "version": "3.10.9"
    },
    "vscode": {
      "interpreter": {
        "hash": "e36110c19a3d1ea2665009ee74adad0e812cc712497de144728619dc5690449d"
      }
    }
  },
  "nbformat": 4,
  "nbformat_minor": 0
}
